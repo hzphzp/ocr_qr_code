{
 "cells": [
  {
   "cell_type": "code",
   "execution_count": null,
   "metadata": {
    "collapsed": true
   },
   "outputs": [],
   "source": [
    "import PIL\n",
    "from PIL import ImageFont\n",
    "from PIL import Image\n",
    "from PIL import ImageDraw, ImageChops, ImageFilter\n",
    "import random\n",
    "import cv2\n",
    "import numpy as np"
   ]
  },
  {
   "cell_type": "code",
   "execution_count": null,
   "metadata": {
    "collapsed": true
   },
   "outputs": [],
   "source": [
    "# 常量定义\n",
    "DOC_DIM = (16, 12)\n",
    "BOARDER_SIZE = 2\n",
    "MARGIN_SIZE = 4\n",
    "FONT_SIZE = 40\n",
    "FOREGROUND_COLOR = (255, 255, 255)\n",
    "BACKGROUND_COLOR = (0, 0, 0)\n",
    "FONT_NAME = \"FangZhengKaiTi.ttf\"\n",
    "IMAGE_SIZE = ((FONT_SIZE+2*MARGIN_SIZE) *DOC_DIM[0] + 2*BOARDER_SIZE, (FONT_SIZE+2*MARGIN_SIZE)*DOC_DIM[1] + 2*BOARDER_SIZE)"
   ]
  },
  {
   "cell_type": "code",
   "execution_count": null,
   "metadata": {
    "collapsed": true
   },
   "outputs": [],
   "source": [
    "def generate_doc(char, font_name, FONT_SIZE):\n",
    "    img=Image.new(\"RGB\", IMAGE_SIZE, FOREGROUND_COLOR)\n",
    "    font = ImageFont.truetype(font_name, FONT_SIZE)\n",
    "    draw = ImageDraw.Draw(img)\n",
    "    draw.rectangle(xy=[(0, 0), (IMAGE_SIZE[0]-1, IMAGE_SIZE[1]-1)], outline=BACKGROUND_COLOR, width=BOARDER_SIZE)\n",
    "    try:\n",
    "        cursor = 0\n",
    "        for row in range(1, DOC_DIM[1]-1):\n",
    "            for col in range(1, DOC_DIM[0]-1):\n",
    "                draw.text((BOARDER_SIZE + col*(FONT_SIZE+2*MARGIN_SIZE) + MARGIN_SIZE, BOARDER_SIZE + row*(FONT_SIZE+2*MARGIN_SIZE) + MARGIN_SIZE), char[cursor], BACKGROUND_COLOR,font=font)\n",
    "                cursor += 1\n",
    "    except IndexError:\n",
    "        pass\n",
    "    return img"
   ]
  },
  {
   "cell_type": "code",
   "execution_count": null,
   "metadata": {
    "collapsed": true,
    "scrolled": false
   },
   "outputs": [],
   "source": [
    "# 生成文档，敲回车生成下一页\n",
    "chars = open('data/frequent_chars.txt', 'r').read()\n",
    "for i in range(0, len(chars), DOC_DIM[0]*DOC_DIM[1]):\n",
    "    image = generate_doc(chars[i:], \"fonts/{}\".format(FONT_NAME), FONT_SIZE)\n",
    "#     display(generate_doc(chars[i:], \"fonts/{}\".format(FONT_NAME), FONT_SIZE))\n",
    "    img = cv2.cvtColor(np.asarray(image),cv2.COLOR_RGB2BGR)  \n",
    "    cv2.imshow(\"OpenCV\",img)\n",
    "    cv2.waitKey()"
   ]
  },
  {
   "cell_type": "code",
   "execution_count": null,
   "metadata": {
    "collapsed": true
   },
   "outputs": [],
   "source": [
    "def crop_image(image):\n",
    "    \"\"\"Crop largest box from and return as pillow image.\n",
    "    \"\"\"\n",
    "    image = image.resize((image.size[0], image.size[1]))  # Shrink to make boarder clear\n",
    "    image = np.asarray(image)\n",
    "    # Generate edge image\n",
    "    edge_img = cv2.GaussianBlur(image, (3,3), 0)\n",
    "    edge_img = cv2.cvtColor(edge_img, cv2.COLOR_BGR2GRAY)\n",
    "    edge_img = cv2.Canny(edge_img, 50, 150, apertureSize=3)\n",
    "    # Find contour\n",
    "    contours, _ = cv2.findContours(edge_img, cv2.RETR_EXTERNAL, cv2.CHAIN_APPROX_SIMPLE)\n",
    "    contour = sorted(contours, key=cv2.contourArea)[-1]\n",
    "    epsilon = 0.1*cv2.arcLength(contour, True)\n",
    "    contour = cv2.approxPolyDP(contour, epsilon, True)\n",
    "    \n",
    "    def four_point_transform(image, pts):\n",
    "        def order_points(pts):\n",
    "            rect = np.zeros((4, 2), dtype = \"float32\")\n",
    "\n",
    "            s = pts.sum(axis = 1)\n",
    "            rect[0] = pts[np.argmin(s)]\n",
    "            rect[2] = pts[np.argmax(s)]\n",
    "\n",
    "            diff = np.diff(pts, axis = 1)\n",
    "            rect[1] = pts[np.argmin(diff)]\n",
    "            rect[3] = pts[np.argmax(diff)]\n",
    "\n",
    "            return rect\n",
    "\n",
    "        rect = order_points(pts)\n",
    "        (tl, tr, br, bl) = rect\n",
    "\n",
    "        widthA = np.sqrt(((br[0] - bl[0]) ** 2) + ((br[1] - bl[1]) ** 2))\n",
    "        widthB = np.sqrt(((tr[0] - tl[0]) ** 2) + ((tr[1] - tl[1]) ** 2))\n",
    "        maxWidth = max(int(widthA), int(widthB))\n",
    "\n",
    "        heightA = np.sqrt(((tr[0] - br[0]) ** 2) + ((tr[1] - br[1]) ** 2))\n",
    "        heightB = np.sqrt(((tl[0] - bl[0]) ** 2) + ((tl[1] - bl[1]) ** 2))\n",
    "        maxHeight = max(int(heightA), int(heightB))\n",
    "\n",
    "        dst = np.array([\n",
    "            [0, 0],\n",
    "            [maxWidth - 1, 0],\n",
    "            [maxWidth - 1, maxHeight - 1],\n",
    "            [0, maxHeight - 1]], dtype = \"float32\")\n",
    "\n",
    "        M = cv2.getPerspectiveTransform(rect, dst)\n",
    "        warped = cv2.warpPerspective(image, M, (maxWidth, maxHeight))\n",
    "\n",
    "        return warped\n",
    "\n",
    "    paper = four_point_transform(image, contour.reshape(4, 2))\n",
    "    return Image.fromarray(paper).resize(IMAGE_SIZE)\n",
    "\n",
    "def cut_chars(image):\n",
    "    ret = []\n",
    "    for row in range(1, DOC_DIM[1]-1):\n",
    "        for col in range(1, DOC_DIM[0]-1):\n",
    "            left = BOARDER_SIZE + col*(FONT_SIZE+2*MARGIN_SIZE)\n",
    "            upper = BOARDER_SIZE + row*(FONT_SIZE+2*MARGIN_SIZE)\n",
    "            tmp = image.crop((left, upper, left + FONT_SIZE + 2*MARGIN_SIZE, upper + FONT_SIZE + 2*MARGIN_SIZE))\n",
    "            ret.append(tmp)\n",
    "    return ret\n",
    "\n",
    "def preprocess(image):\n",
    "    \"\"\"\"\"\"\n",
    "    return cut_chars(crop_image(image))"
   ]
  },
  {
   "cell_type": "code",
   "execution_count": null,
   "metadata": {
    "collapsed": true
   },
   "outputs": [],
   "source": [
    "import os\n",
    "CURRENT_FONT='__test__'\n",
    "chars = []\n",
    "for i in os.listdir('data/doc_photo'+'/'+CURRENT_FONT):\n",
    "    chars += preprocess(Image.open('data/doc_photo'+'/'+CURRENT_FONT+'/'+i))\n",
    "for idx, c in enumerate(chars):\n",
    "    c.save('data/char_photo'+'/'+CURRENT_FONT+'/'+str(idx)+'.jpg')"
   ]
  },
  {
   "cell_type": "code",
   "execution_count": null,
   "metadata": {
    "collapsed": true
   },
   "outputs": [],
   "source": []
  }
 ],
 "metadata": {
  "kernelspec": {
   "display_name": "Python 3",
   "language": "python",
   "name": "python3"
  },
  "language_info": {
   "codemirror_mode": {
    "name": "ipython",
    "version": 3
   },
   "file_extension": ".py",
   "mimetype": "text/x-python",
   "name": "python",
   "nbconvert_exporter": "python",
   "pygments_lexer": "ipython3",
   "version": "3.6.2"
  }
 },
 "nbformat": 4,
 "nbformat_minor": 2
}
