{
 "cells": [
  {
   "cell_type": "code",
   "execution_count": 17,
   "metadata": {},
   "outputs": [],
   "source": [
    "import PIL\n",
    "from PIL import ImageFont\n",
    "from PIL import Image\n",
    "from PIL import ImageDraw, ImageChops, ImageFilter\n",
    "import random\n",
    "import numpy"
   ]
  },
  {
   "cell_type": "code",
   "execution_count": 33,
   "metadata": {},
   "outputs": [],
   "source": [
    "# Definition of some constant\n",
    "IMAGE_SIZE = (200, 200)\n",
    "CHAR_USED = 1000\n",
    "NUM_PER_CHAR = 5\n",
    "FONT_SIZE = 200\n",
    "FOREGROUND_COLOR = (0, 0, 0)\n",
    "BACKGROUND_COLOR = (255, 255, 255)\n",
    "FONT_NAME = \"SimSun.ttf\""
   ]
  },
  {
   "cell_type": "code",
   "execution_count": 66,
   "metadata": {},
   "outputs": [
    {
     "data": {
      "image/png": "[encoded data removed]",
      "text/plain": [
       "<PIL.Image.Image image mode=1 size=200x200 at 0x7FDE67A52860>"
      ]
     },
     "execution_count": 66,
     "metadata": {},
     "output_type": "execute_result"
    }
   ],
   "source": [
    "def find_coeffs(pa, pb):\n",
    "    matrix = []\n",
    "    for p1, p2 in zip(pa, pb):\n",
    "        matrix.append([p1[0], p1[1], 1, 0, 0, 0, -p2[0]*p1[0], -p2[0]*p1[1]])\n",
    "        matrix.append([0, 0, 0, p1[0], p1[1], 1, -p2[1]*p1[0], -p2[1]*p1[1]])\n",
    "\n",
    "    A = numpy.matrix(matrix, dtype=numpy.float)\n",
    "    B = numpy.array(pb).reshape(8)\n",
    "\n",
    "    res = numpy.dot(numpy.linalg.inv(A.T * A) * A.T, B)\n",
    "    return numpy.array(res).reshape(8)\n",
    "\n",
    "def generate_char(char, font_name):\n",
    "    size = random.randint(20, 200)\n",
    "    img=Image.new(\"RGB\", (size, size), FOREGROUND_COLOR)\n",
    "    font = ImageFont.truetype(font_name, size)\n",
    "    draw = ImageDraw.Draw(img)\n",
    "    draw.text((0, 0), char, BACKGROUND_COLOR,font=font)\n",
    "    \n",
    "    # Resize\n",
    "    img = img.resize(IMAGE_SIZE)\n",
    "\n",
    "    # 透视(平移、旋转、扭曲)\n",
    "    dev = lambda: random.randint(-15, 15)\n",
    "    old_points = [(0, 0), (IMAGE_SIZE[0], 0), (0, IMAGE_SIZE[1]), IMAGE_SIZE]\n",
    "    new_points = [(0+dev(), 0+dev()), (IMAGE_SIZE[0]+dev(), 0+dev()), (0+dev(), IMAGE_SIZE[1]+dev()), (IMAGE_SIZE[0]+dev(), IMAGE_SIZE[1]+dev())]\n",
    "    img = img.transform(IMAGE_SIZE, Image.PERSPECTIVE, find_coeffs(new_points, old_points), Image.BICUBIC)\n",
    "\n",
    "    # 噪点\n",
    "    rate = random.random() / 200\n",
    "    for i in range(IMAGE_SIZE[0]):\n",
    "        for j in range(IMAGE_SIZE[1]):\n",
    "            if random.random() < rate:\n",
    "                img.putpixel(xy=(i, j), value=FOREGROUND_COLOR)\n",
    "\n",
    "    # 模糊\n",
    "    img = img.filter(ImageFilter.GaussianBlur(radius=random.random()*2))\n",
    "\n",
    "    return img.convert('1')\n",
    "generate_char(\"我\", \"fonts/\"+FONT_NAME)"
   ]
  },
  {
   "cell_type": "code",
   "execution_count": 27,
   "metadata": {},
   "outputs": [],
   "source": [
    "normal_chars = open('data/frequent_chars.txt').read()\n",
    "\n",
    "images = [[transform(generate_char(normal_chars[i], \"fonts/{}\".format(FONT_NAME))) for _ in range(NUM_PER_CHAR)] for i in range(CHAR_USED)]"
   ]
  },
  {
   "cell_type": "code",
   "execution_count": 28,
   "metadata": {},
   "outputs": [],
   "source": [
    "for i in range(CHAR_USED):\n",
    "    for j in range(NUM_PER_CHAR):\n",
    "        images[i][j].save('data/{}/{}_{}.png'.format(FONT_NAME.split('.')[0], normal_chars[i], j))"
   ]
  },
  {
   "cell_type": "code",
   "execution_count": null,
   "metadata": {},
   "outputs": [],
   "source": []
  }
 ],
 "metadata": {
  "kernelspec": {
   "display_name": "Python 3",
   "language": "python",
   "name": "python3"
  },
  "language_info": {
   "codemirror_mode": {
    "name": "ipython",
    "version": 3
   },
   "file_extension": ".py",
   "mimetype": "text/x-python",
   "name": "python",
   "nbconvert_exporter": "python",
   "pygments_lexer": "ipython3",
   "version": "3.7.3"
  }
 },
 "nbformat": 4,
 "nbformat_minor": 2
}
